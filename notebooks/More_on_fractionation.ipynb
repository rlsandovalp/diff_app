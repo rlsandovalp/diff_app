{
 "cells": [
  {
   "cell_type": "code",
   "execution_count": null,
   "metadata": {},
   "outputs": [],
   "source": [
    "# Bibliography review"
   ]
  },
  {
   "cell_type": "markdown",
   "metadata": {},
   "source": [
    "# Bibliography review\n",
    "#### Molecular dynamics simulations about isotope fractionation of methane in shale nanopores\n",
    "https://www.sciencedirect.com/science/article/pii/S0016236120313740\n",
    "\n",
    "They did MD simulations to investigate transport and adsorption of methane isotopologues in nanopores\n",
    "- For high $Kn$ they observed more fractionation\n",
    "- Heavier molecules are more easily adsorbed\n",
    "- Diffusion coefficient is larger for lighter molecules"
   ]
  }
 ],
 "metadata": {
  "kernelspec": {
   "display_name": "Python 3.8.8",
   "language": "python",
   "name": "python3"
  },
  "language_info": {
   "name": "python",
   "version": "3.8.8"
  },
  "orig_nbformat": 4,
  "vscode": {
   "interpreter": {
    "hash": "6c7b24f2af6d8326af019a2c1e3781e3fd7f155564fc6b2146da6d6b307574a7"
   }
  }
 },
 "nbformat": 4,
 "nbformat_minor": 2
}
